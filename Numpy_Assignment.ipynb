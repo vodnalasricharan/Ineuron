{
  "nbformat": 4,
  "nbformat_minor": 0,
  "metadata": {
    "colab": {
      "name": "Numpy_Assignment.ipynb",
      "provenance": [],
      "authorship_tag": "ABX9TyMBtFA3s4Mvn5TilGU0r8D3",
      "include_colab_link": true
    },
    "kernelspec": {
      "name": "python3",
      "display_name": "Python 3"
    }
  },
  "cells": [
    {
      "cell_type": "markdown",
      "metadata": {
        "id": "view-in-github",
        "colab_type": "text"
      },
      "source": [
        "<a href=\"https://colab.research.google.com/github/vodnalasricharan/Ineuron/blob/master/Numpy_Assignment.ipynb\" target=\"_parent\"><img src=\"https://colab.research.google.com/assets/colab-badge.svg\" alt=\"Open In Colab\"/></a>"
      ]
    },
    {
      "cell_type": "code",
      "metadata": {
        "id": "XnCCVjobQaJP",
        "colab_type": "code",
        "colab": {}
      },
      "source": [
        "import numpy as np"
      ],
      "execution_count": 2,
      "outputs": []
    },
    {
      "cell_type": "code",
      "metadata": {
        "id": "lB6U1bk8Ntzb",
        "colab_type": "code",
        "colab": {
          "base_uri": "https://localhost:8080/",
          "height": 353
        },
        "outputId": "e40730d6-fdc1-4be7-9977-09e02ca46d02"
      },
      "source": [
        "'''Write a function so that the columns of the output matrix are powers of the input\n",
        "vector.\n",
        "The order of the powers is determined by the increasing boolean argument. Specifically, when\n",
        "increasing is False, the i-th output column is the input vector raised element-wise to the power\n",
        "of N - i - 1.\n",
        "\n",
        "HINT: Such a matrix with a geometric progression in each row is named for Alexandre-\n",
        "Theophile Vandermonde.'''\n",
        "def Vandermonde(inputvector,outputdimensions,increasing=False):\n",
        "  if increasing:\n",
        "    output_array = np.array([x**(outputdimensions-1-i) for x in inputvector for i in range(outputdimensions)]).reshape(inputvector.size,outputdimensions)\n",
        "  else:\n",
        "    output_array = np.array([x**i for x in inputvector for i in range(outputdimensions)]).reshape(inputvector.size,outputdimensions)\n",
        "  return output_array\n",
        "\n",
        "inputvector = np.array([44,17,37,16,13])\n",
        "n= 6\n",
        "ouput_array_dec= Vandermonde(inputvector,n,False)\n",
        "output_array_inc = Vandermonde(inputvector,n,True)\n",
        "\n",
        "print(\"The input array is:\",inputvector,\"\\n\")\n",
        "print(\"Number of columns in output matrix should be:\",n,\"\\n\")\n",
        "print(\"Vander matrix of the input array in decreasing order of powers:\\n\\n\",ouput_array_dec,\"\\n\")\n",
        "print(\"Vander matrix of the input array in increasing order of powers:\\n\\n\",output_array_inc,\"\\n\")"
      ],
      "execution_count": 4,
      "outputs": [
        {
          "output_type": "stream",
          "text": [
            "The input array is: [44 17 37 16 13] \n",
            "\n",
            "Number of columns in output matrix should be: 6 \n",
            "\n",
            "Vander matrix of the input array in decreasing order of powers:\n",
            "\n",
            " [[        1        44      1936     85184   3748096 164916224]\n",
            " [        1        17       289      4913     83521   1419857]\n",
            " [        1        37      1369     50653   1874161  69343957]\n",
            " [        1        16       256      4096     65536   1048576]\n",
            " [        1        13       169      2197     28561    371293]] \n",
            "\n",
            "Vander matrix of the input array in increasing order of powers:\n",
            "\n",
            " [[164916224   3748096     85184      1936        44         1]\n",
            " [  1419857     83521      4913       289        17         1]\n",
            " [ 69343957   1874161     50653      1369        37         1]\n",
            " [  1048576     65536      4096       256        16         1]\n",
            " [   371293     28561      2197       169        13         1]] \n",
            "\n"
          ],
          "name": "stdout"
        }
      ]
    },
    {
      "cell_type": "code",
      "metadata": {
        "id": "jimRV5dHQYca",
        "colab_type": "code",
        "colab": {}
      },
      "source": [
        "'''Given a sequence of n values x1, x2, ..., xn and a window size k>0, the k-th moving average of\n",
        "the given sequence is defined as follows:\n",
        "The moving average sequence has n-k+1 elements as shown below.\n",
        "The moving averages with k=4 of a ten-value sequence (n=10) is shown below\n",
        "i 1 2 3 4 5 6 7 8 9 10\n",
        "===== == == == == == == == == == ==\n",
        "Input 10 20 30 40 50 60 70 80 90 100\n",
        "y1 25 = (10+20+30+40)/4\n",
        "y2 35 = (20+30+40+50)/4\n",
        "y3 45 = (30+40+50+60)/4\n",
        "y4 55 = (40+50+60+70)/4\n",
        "y5 65 = (50+60+70+80)/4\n",
        "y6 75 = (60+70+80+90)/4\n",
        "y7 85 = (70+80+90+100)/4\n",
        "Thus, the moving average sequence has n-k+1=10-4+1=7 values.'''\n",
        "\n",
        "\n",
        "\n",
        "def moving_avrg(input_array,k):\n",
        "  return np.array([np.mean(input_array[i:i+k])for i in range(input_array.size-k+1)])\n"
      ],
      "execution_count": 10,
      "outputs": []
    },
    {
      "cell_type": "code",
      "metadata": {
        "id": "qMXEFvsQVENk",
        "colab_type": "code",
        "colab": {
          "base_uri": "https://localhost:8080/",
          "height": 67
        },
        "outputId": "612183da-1d1a-4eb1-f3e3-8b8cb1ea8a1a"
      },
      "source": [
        "\n",
        "'''Question: Write a function to find moving average in an array over a window:\n",
        "Test it over [3, 5, 7, 2, 8, 10, 11, 65, 72, 81, 99, 100, 150] and window of 3.'''\n",
        "\n",
        "inp=np.array([3, 5, 7, 2, 8, 10, 11, 65, 72, 81, 99, 100, 150])\n",
        "moving_avrg(inp,3)"
      ],
      "execution_count": 11,
      "outputs": [
        {
          "output_type": "execute_result",
          "data": {
            "text/plain": [
              "array([  5.        ,   4.66666667,   5.66666667,   6.66666667,\n",
              "         9.66666667,  28.66666667,  49.33333333,  72.66666667,\n",
              "        84.        ,  93.33333333, 116.33333333])"
            ]
          },
          "metadata": {
            "tags": []
          },
          "execution_count": 11
        }
      ]
    },
    {
      "cell_type": "code",
      "metadata": {
        "id": "YZDh9jXAVoZ-",
        "colab_type": "code",
        "colab": {}
      },
      "source": [
        ""
      ],
      "execution_count": null,
      "outputs": []
    }
  ]
}