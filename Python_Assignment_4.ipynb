{
  "nbformat": 4,
  "nbformat_minor": 0,
  "metadata": {
    "colab": {
      "name": "Python_Assignment_4.ipynb",
      "provenance": [],
      "collapsed_sections": [],
      "authorship_tag": "ABX9TyMeWPU0w2tuqc0FbHx0vWvI",
      "include_colab_link": true
    },
    "kernelspec": {
      "name": "python3",
      "display_name": "Python 3"
    }
  },
  "cells": [
    {
      "cell_type": "markdown",
      "metadata": {
        "id": "view-in-github",
        "colab_type": "text"
      },
      "source": [
        "<a href=\"https://colab.research.google.com/github/vodnalasricharan/Ineuron/blob/master/Python_Assignment_4.ipynb\" target=\"_parent\"><img src=\"https://colab.research.google.com/assets/colab-badge.svg\" alt=\"Open In Colab\"/></a>"
      ]
    },
    {
      "cell_type": "markdown",
      "metadata": {
        "id": "wvNXEWGKaYQ9",
        "colab_type": "text"
      },
      "source": [
        "###1.1 Write a Python Program(with class concepts) to find the area of the triangle using the below formula<br>\n",
        "<b>area = (s*(s-a)*(s-b)*(s-c)) ** 0.5 </b><br>\n",
        "\n",
        "Function to take the length of the sides of triangle from user should be defined in the parent class and function to calculate the area should be defined in subclass.</p>"
      ]
    },
    {
      "cell_type": "code",
      "metadata": {
        "id": "55lHSp_IZYlu",
        "colab_type": "code",
        "colab": {}
      },
      "source": [
        "class Parent:\n",
        "\n",
        "    def __init__(self, n,lenofsides):\n",
        "        self.sides = n\n",
        "        self.lenofsides=lenofsides\n",
        "        \n",
        "class Triangle(Parent):\n",
        "\n",
        "    def __init__(self, lenofsides):\n",
        "        Parent.__init__(self, 3,lenofsides)  \n",
        "\n",
        "    def get_area(self):\n",
        "        a, b, c = self.lenofsides\n",
        "        s = (a + b + c) / 2\n",
        "        return (s*(s-a)*(s-b)*(s-c)) ** 0.5"
      ],
      "execution_count": null,
      "outputs": []
    },
    {
      "cell_type": "code",
      "metadata": {
        "id": "_A0qOv3mcDww",
        "colab_type": "code",
        "colab": {
          "base_uri": "https://localhost:8080/",
          "height": 34
        },
        "outputId": "f8bab34c-a578-4711-eda1-eb7b163fc31e"
      },
      "source": [
        "triangle=Triangle([11,12,13])\n",
        "triangle.get_area()"
      ],
      "execution_count": null,
      "outputs": [
        {
          "output_type": "execute_result",
          "data": {
            "text/plain": [
              "61.48170459575759"
            ]
          },
          "metadata": {
            "tags": []
          },
          "execution_count": 7
        }
      ]
    },
    {
      "cell_type": "markdown",
      "metadata": {
        "id": "H3P8TwUNd7If",
        "colab_type": "text"
      },
      "source": [
        "###1.2 Write a function filter_long_words() that takes a list of words and an integer n and returns the list of words that are longer than n"
      ]
    },
    {
      "cell_type": "code",
      "metadata": {
        "id": "W0uvl0QWcTof",
        "colab_type": "code",
        "colab": {}
      },
      "source": [
        "def filter_long_words(listofwords,n):\n",
        " return list(filter(lambda x:len(x)>n,listofwords))"
      ],
      "execution_count": null,
      "outputs": []
    },
    {
      "cell_type": "code",
      "metadata": {
        "id": "ZMwEJUjEejcM",
        "colab_type": "code",
        "colab": {
          "base_uri": "https://localhost:8080/",
          "height": 34
        },
        "outputId": "e11a5755-c916-4941-f59c-188dbd8e8252"
      },
      "source": [
        "filter_long_words(['sricharan','varunteja','sudhanshu','charan','jai','kittu','rowdy','linux','linkedin','ineuron'],5)"
      ],
      "execution_count": null,
      "outputs": [
        {
          "output_type": "execute_result",
          "data": {
            "text/plain": [
              "['sricharan', 'varunteja', 'sudhanshu', 'charan', 'linkedin', 'ineuron']"
            ]
          },
          "metadata": {
            "tags": []
          },
          "execution_count": 12
        }
      ]
    },
    {
      "cell_type": "markdown",
      "metadata": {
        "id": "jRG-2C3MffnJ",
        "colab_type": "text"
      },
      "source": [
        "###2.1 Write a Python program using function concept that maps list of words into a list of integers representing the lengths of the corresponding words."
      ]
    },
    {
      "cell_type": "code",
      "metadata": {
        "id": "E7xfvFNGfT3L",
        "colab_type": "code",
        "colab": {}
      },
      "source": [
        "def len_of_words(l):\n",
        "  return list(map(lambda x: len(x),l))"
      ],
      "execution_count": null,
      "outputs": []
    },
    {
      "cell_type": "code",
      "metadata": {
        "id": "Tum8Ss_SgFkN",
        "colab_type": "code",
        "colab": {
          "base_uri": "https://localhost:8080/",
          "height": 34
        },
        "outputId": "40ba6ddb-1158-48bc-942f-2e247644affa"
      },
      "source": [
        "len_of_words(['sricharan','varunteja','sudhanshu','charan','jai','kittu','rowdy','linux','linkedin','ineuron'])"
      ],
      "execution_count": null,
      "outputs": [
        {
          "output_type": "execute_result",
          "data": {
            "text/plain": [
              "[9, 9, 9, 6, 3, 5, 5, 5, 8, 7]"
            ]
          },
          "metadata": {
            "tags": []
          },
          "execution_count": 16
        }
      ]
    },
    {
      "cell_type": "markdown",
      "metadata": {
        "id": "654qxLMYga48",
        "colab_type": "text"
      },
      "source": [
        "###2.2 Write a Python function which takes a character (i.e. a string of length 1) and returns True if it is a vowel, False otherwise."
      ]
    },
    {
      "cell_type": "code",
      "metadata": {
        "id": "MSVoQRLIgMJN",
        "colab_type": "code",
        "colab": {}
      },
      "source": [
        "def is_vowel(c):\n",
        "  if c in ('a','e','i','o','u'):\n",
        "    return True "
      ],
      "execution_count": null,
      "outputs": []
    },
    {
      "cell_type": "code",
      "metadata": {
        "id": "-gau3nL4g2An",
        "colab_type": "code",
        "colab": {
          "base_uri": "https://localhost:8080/",
          "height": 34
        },
        "outputId": "9e047bf7-5bf3-4dbc-b2b6-bad11c74ec5c"
      },
      "source": [
        "is_vowel('e')"
      ],
      "execution_count": null,
      "outputs": [
        {
          "output_type": "execute_result",
          "data": {
            "text/plain": [
              "True"
            ]
          },
          "metadata": {
            "tags": []
          },
          "execution_count": 22
        }
      ]
    },
    {
      "cell_type": "code",
      "metadata": {
        "id": "9IJLu9mhhgUg",
        "colab_type": "code",
        "colab": {}
      },
      "source": [
        ""
      ],
      "execution_count": null,
      "outputs": []
    }
  ]
}