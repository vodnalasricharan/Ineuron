{
  "nbformat": 4,
  "nbformat_minor": 0,
  "metadata": {
    "colab": {
      "name": "Exception_handling_Assignment.ipynb",
      "provenance": [],
      "authorship_tag": "ABX9TyNJMopxH33zfYBSVdLj9Pb/",
      "include_colab_link": true
    },
    "kernelspec": {
      "name": "python3",
      "display_name": "Python 3"
    }
  },
  "cells": [
    {
      "cell_type": "markdown",
      "metadata": {
        "id": "view-in-github",
        "colab_type": "text"
      },
      "source": [
        "<a href=\"https://colab.research.google.com/github/vodnalasricharan/Ineuron/blob/master/Exception_handling_Assignment.ipynb\" target=\"_parent\"><img src=\"https://colab.research.google.com/assets/colab-badge.svg\" alt=\"Open In Colab\"/></a>"
      ]
    },
    {
      "cell_type": "markdown",
      "metadata": {
        "id": "ko_-ZsNG6DS1",
        "colab_type": "text"
      },
      "source": [
        "#1)Write a function to compute 5/0 and use try/except to catch the exceptions."
      ]
    },
    {
      "cell_type": "code",
      "metadata": {
        "id": "aUlWMpdr59Tc",
        "colab_type": "code",
        "colab": {
          "base_uri": "https://localhost:8080/",
          "height": 34
        },
        "outputId": "7f27e8ab-9209-4ddd-fb22-d721f6be1d14"
      },
      "source": [
        "try:\n",
        "  res=5/0\n",
        "except Exception as e:\n",
        "  print('Error : ',e)"
      ],
      "execution_count": 1,
      "outputs": [
        {
          "output_type": "stream",
          "text": [
            "Error division by zero\n"
          ],
          "name": "stdout"
        }
      ]
    },
    {
      "cell_type": "markdown",
      "metadata": {
        "id": "DGPrMuOP6iEh",
        "colab_type": "text"
      },
      "source": [
        "### Making it more dynamic"
      ]
    },
    {
      "cell_type": "code",
      "metadata": {
        "id": "szDOBwAb6aRi",
        "colab_type": "code",
        "colab": {
          "base_uri": "https://localhost:8080/",
          "height": 67
        },
        "outputId": "e5414bce-be99-4ed4-f576-a98c6b5af882"
      },
      "source": [
        "try:\n",
        "  a=int(input('Enter numerator :: '))\n",
        "  b=int(input('Enter demoninator :: '))\n",
        "  res=a/b\n",
        "  print('Result : ',res)\n",
        "except Exception as e:\n",
        "  print('Error : ',e)"
      ],
      "execution_count": 5,
      "outputs": [
        {
          "output_type": "stream",
          "text": [
            "Enter numerator :: 5\n",
            "Enter demoninator :: 0\n",
            "Error :  division by zero\n"
          ],
          "name": "stdout"
        }
      ]
    },
    {
      "cell_type": "markdown",
      "metadata": {
        "id": "zTZ1n5d47PYs",
        "colab_type": "text"
      },
      "source": [
        "###2) Implement a Python program to generate all sentences where subject is in[\"Americans\", \"Indians\"] and verb is in [\"Play\", \"watch\"] and the object is in[\"Baseball\",\"cricket\"]."
      ]
    },
    {
      "cell_type": "code",
      "metadata": {
        "id": "_2Zl5_dS68-e",
        "colab_type": "code",
        "colab": {}
      },
      "source": [
        "subjects=['Americans','Indians']\n",
        "verbs=['play','watch']\n",
        "objects=['baseball','cricket']"
      ],
      "execution_count": 6,
      "outputs": []
    },
    {
      "cell_type": "code",
      "metadata": {
        "id": "H9t8zQ549M0j",
        "colab_type": "code",
        "colab": {}
      },
      "source": [
        "sentences=[(sub+' '+veb+' '+obj) for sub in subjects for veb in verbs for obj in objects]"
      ],
      "execution_count": 21,
      "outputs": []
    },
    {
      "cell_type": "code",
      "metadata": {
        "id": "ql3mQ9Ob9ea3",
        "colab_type": "code",
        "colab": {
          "base_uri": "https://localhost:8080/",
          "height": 151
        },
        "outputId": "7ef94994-0864-4b02-c6d9-96c047348c22"
      },
      "source": [
        "for sentence in sentences:\n",
        "  print(sentence)"
      ],
      "execution_count": 22,
      "outputs": [
        {
          "output_type": "stream",
          "text": [
            "Americans play baseball\n",
            "Americans play cricket\n",
            "Americans watch baseball\n",
            "Americans watch cricket\n",
            "Indians play baseball\n",
            "Indians play cricket\n",
            "Indians watch baseball\n",
            "Indians watch cricket\n"
          ],
          "name": "stdout"
        }
      ]
    },
    {
      "cell_type": "markdown",
      "metadata": {
        "id": "kHV8-4ks9mmo",
        "colab_type": "text"
      },
      "source": [
        "### we can use generator function too"
      ]
    },
    {
      "cell_type": "code",
      "metadata": {
        "id": "BEUvpr1C7v3g",
        "colab_type": "code",
        "colab": {}
      },
      "source": [
        "def generate():\n",
        "  for subject in subjects:\n",
        "    for verb in verbs:\n",
        "      for object in objects:\n",
        "        res=subject+' '+verb+' '+object\n",
        "        yield res"
      ],
      "execution_count": 16,
      "outputs": []
    },
    {
      "cell_type": "code",
      "metadata": {
        "id": "1UGM-ZfZ78cY",
        "colab_type": "code",
        "colab": {}
      },
      "source": [
        "gen=generate()"
      ],
      "execution_count": 17,
      "outputs": []
    },
    {
      "cell_type": "code",
      "metadata": {
        "id": "D3A1ZEAw8dc5",
        "colab_type": "code",
        "colab": {}
      },
      "source": [
        "it=iter(gen)"
      ],
      "execution_count": 23,
      "outputs": []
    },
    {
      "cell_type": "code",
      "metadata": {
        "id": "uSkwyuMP8gTU",
        "colab_type": "code",
        "colab": {
          "base_uri": "https://localhost:8080/",
          "height": 35
        },
        "outputId": "deefb134-17bf-4fab-d41e-52fabbf7047e"
      },
      "source": [
        "next(it)"
      ],
      "execution_count": 24,
      "outputs": [
        {
          "output_type": "execute_result",
          "data": {
            "application/vnd.google.colaboratory.intrinsic": {
              "type": "string"
            },
            "text/plain": [
              "'Americans watch baseball'"
            ]
          },
          "metadata": {
            "tags": []
          },
          "execution_count": 24
        }
      ]
    },
    {
      "cell_type": "code",
      "metadata": {
        "id": "NmEfJBzb8h9I",
        "colab_type": "code",
        "colab": {}
      },
      "source": [
        ""
      ],
      "execution_count": null,
      "outputs": []
    }
  ]
}