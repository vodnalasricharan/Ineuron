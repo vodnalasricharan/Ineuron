{
  "nbformat": 4,
  "nbformat_minor": 0,
  "metadata": {
    "colab": {
      "name": "Python_Assignment_3.ipynb",
      "provenance": [],
      "collapsed_sections": [],
      "authorship_tag": "ABX9TyMrlR1qRc9HGhQn0r7vCE5s",
      "include_colab_link": true
    },
    "kernelspec": {
      "name": "python3",
      "display_name": "Python 3"
    }
  },
  "cells": [
    {
      "cell_type": "markdown",
      "metadata": {
        "id": "view-in-github",
        "colab_type": "text"
      },
      "source": [
        "<a href=\"https://colab.research.google.com/github/vodnalasricharan/Ineuron/blob/master/Python_Assignment_3.ipynb\" target=\"_parent\"><img src=\"https://colab.research.google.com/assets/colab-badge.svg\" alt=\"Open In Colab\"/></a>"
      ]
    },
    {
      "cell_type": "markdown",
      "metadata": {
        "id": "7fuXjWrFzcj8",
        "colab_type": "text"
      },
      "source": [
        "#1"
      ]
    },
    {
      "cell_type": "markdown",
      "metadata": {
        "id": "vyXRdWLazoBq",
        "colab_type": "text"
      },
      "source": [
        "##1.1 Write a Python Program to implement your own myreduce() function which works exactly like Python's built-in function reduce()\n"
      ]
    },
    {
      "cell_type": "code",
      "metadata": {
        "id": "aUm6tYALzScw",
        "colab_type": "code",
        "colab": {}
      },
      "source": [
        "def myreduce(function,list):\n",
        "  x=list[0]\n",
        "  for i in range(1,len(list)):\n",
        "    x=function(x,list[i])\n",
        "  return x\n",
        "    "
      ],
      "execution_count": null,
      "outputs": []
    },
    {
      "cell_type": "code",
      "metadata": {
        "id": "-Bsh0YFSTyrq",
        "colab_type": "code",
        "colab": {}
      },
      "source": [
        "def sum(a,b):\n",
        "  return a+b"
      ],
      "execution_count": null,
      "outputs": []
    },
    {
      "cell_type": "code",
      "metadata": {
        "id": "8EVOZ2YCT5C8",
        "colab_type": "code",
        "colab": {}
      },
      "source": [
        "l=[1,2,3,4,5,6]"
      ],
      "execution_count": null,
      "outputs": []
    },
    {
      "cell_type": "code",
      "metadata": {
        "id": "swJyHqq0T-vv",
        "colab_type": "code",
        "colab": {
          "base_uri": "https://localhost:8080/",
          "height": 34
        },
        "outputId": "755f6b78-3d3e-4708-c208-085d67c1b93b"
      },
      "source": [
        "myreduce(sum,l)"
      ],
      "execution_count": null,
      "outputs": [
        {
          "output_type": "execute_result",
          "data": {
            "text/plain": [
              "21"
            ]
          },
          "metadata": {
            "tags": []
          },
          "execution_count": 5
        }
      ]
    },
    {
      "cell_type": "code",
      "metadata": {
        "id": "NCofLlaCUNn1",
        "colab_type": "code",
        "colab": {
          "base_uri": "https://localhost:8080/",
          "height": 34
        },
        "outputId": "e2cb7bc9-ad37-4982-e164-8de181eb9447"
      },
      "source": [
        "myreduce(lambda a,b: a*b,l)"
      ],
      "execution_count": null,
      "outputs": [
        {
          "output_type": "execute_result",
          "data": {
            "text/plain": [
              "720"
            ]
          },
          "metadata": {
            "tags": []
          },
          "execution_count": 7
        }
      ]
    },
    {
      "cell_type": "markdown",
      "metadata": {
        "id": "tnuKh4C-UfQF",
        "colab_type": "text"
      },
      "source": [
        "##1.2 Write a Python program to implement your own myfilter() function which works exactly like Python's built-in function filter()"
      ]
    },
    {
      "cell_type": "code",
      "metadata": {
        "id": "PubY5bk0UaDX",
        "colab_type": "code",
        "colab": {}
      },
      "source": [
        "def myfilter(function,list):\n",
        "  r=[]\n",
        "  for i in list :\n",
        "    if function(i):\n",
        "      r.append(i)\n",
        "  return r"
      ],
      "execution_count": null,
      "outputs": []
    },
    {
      "cell_type": "code",
      "metadata": {
        "id": "qBS77FsdVkhe",
        "colab_type": "code",
        "colab": {}
      },
      "source": [
        "def even(a):\n",
        "  if a%2==0:\n",
        "    return True"
      ],
      "execution_count": null,
      "outputs": []
    },
    {
      "cell_type": "code",
      "metadata": {
        "id": "Gpzc8dW6Vq5v",
        "colab_type": "code",
        "colab": {
          "base_uri": "https://localhost:8080/",
          "height": 34
        },
        "outputId": "15bd0b07-f8aa-480d-ccaa-5e39b990bac4"
      },
      "source": [
        "myfilter(even,l)"
      ],
      "execution_count": null,
      "outputs": [
        {
          "output_type": "execute_result",
          "data": {
            "text/plain": [
              "[2, 4, 6]"
            ]
          },
          "metadata": {
            "tags": []
          },
          "execution_count": 13
        }
      ]
    },
    {
      "cell_type": "markdown",
      "metadata": {
        "id": "dNHjDnOtW3xc",
        "colab_type": "text"
      },
      "source": [
        "#2. Implement List comprehensions to produce the following lists. \n",
        "##Write List comprehensions to produce the following Lists"
      ]
    },
    {
      "cell_type": "markdown",
      "metadata": {
        "id": "pQphS5pWXG-Z",
        "colab_type": "text"
      },
      "source": [
        "###['x', 'xx', 'xxx', 'xxxx', 'y', 'yy', 'yyy', 'yyyy', 'z', 'zz', 'zzz', 'zzzz'] "
      ]
    },
    {
      "cell_type": "code",
      "metadata": {
        "id": "nPLfG61XVv1x",
        "colab_type": "code",
        "colab": {
          "base_uri": "https://localhost:8080/",
          "height": 34
        },
        "outputId": "81ed09ae-15b2-410a-d119-ec1735239a4d"
      },
      "source": [
        "[i * j for j in ['x', 'y', 'z'] for i in range(1, 5)]"
      ],
      "execution_count": null,
      "outputs": [
        {
          "output_type": "execute_result",
          "data": {
            "text/plain": [
              "['x', 'xx', 'xxx', 'xxxx', 'y', 'yy', 'yyy', 'yyyy', 'z', 'zz', 'zzz', 'zzzz']"
            ]
          },
          "metadata": {
            "tags": []
          },
          "execution_count": 15
        }
      ]
    },
    {
      "cell_type": "markdown",
      "metadata": {
        "id": "U_rxIwlAXlDP",
        "colab_type": "text"
      },
      "source": [
        "###['x', 'y', 'z', 'xx', 'yy', 'zz', 'xxx', 'yyy', 'zzz', 'xxxx', 'yyyy', 'zzzz'] "
      ]
    },
    {
      "cell_type": "code",
      "metadata": {
        "id": "vknT89kRXvPX",
        "colab_type": "code",
        "colab": {
          "base_uri": "https://localhost:8080/",
          "height": 34
        },
        "outputId": "0b49692e-b6d7-4efa-e422-d8a67b0b9173"
      },
      "source": [
        "[i * j for j in range(1, 5) for i in ['x', 'y', 'z']]"
      ],
      "execution_count": null,
      "outputs": [
        {
          "output_type": "execute_result",
          "data": {
            "text/plain": [
              "['x', 'y', 'z', 'xx', 'yy', 'zz', 'xxx', 'yyy', 'zzz', 'xxxx', 'yyyy', 'zzzz']"
            ]
          },
          "metadata": {
            "tags": []
          },
          "execution_count": 16
        }
      ]
    },
    {
      "cell_type": "markdown",
      "metadata": {
        "id": "xa64Qw4wXv_k",
        "colab_type": "text"
      },
      "source": [
        "###[[2], [3], [4], [3], [4], [5], [4], [5], [6]] "
      ]
    },
    {
      "cell_type": "code",
      "metadata": {
        "id": "iNVIxy0xX0tB",
        "colab_type": "code",
        "colab": {
          "base_uri": "https://localhost:8080/",
          "height": 34
        },
        "outputId": "30f43a1f-2e6b-4d71-eb72-95648c6819ae"
      },
      "source": [
        "[[i + j] for j in [0, 1, 2] for i in range(2, 5)]"
      ],
      "execution_count": null,
      "outputs": [
        {
          "output_type": "execute_result",
          "data": {
            "text/plain": [
              "[[2], [3], [4], [3], [4], [5], [4], [5], [6]]"
            ]
          },
          "metadata": {
            "tags": []
          },
          "execution_count": 17
        }
      ]
    },
    {
      "cell_type": "markdown",
      "metadata": {
        "id": "kyG7t5VRYPAy",
        "colab_type": "text"
      },
      "source": [
        "###[[2, 3, 4, 5], [3, 4, 5, 6],[4, 5, 6, 7], [5, 6, 7, 8]]\n"
      ]
    },
    {
      "cell_type": "code",
      "metadata": {
        "id": "Y5futiMGYQoi",
        "colab_type": "code",
        "colab": {
          "base_uri": "https://localhost:8080/",
          "height": 34
        },
        "outputId": "fa49289e-73b0-48ee-da9e-a550a951b0e4"
      },
      "source": [
        "[[i + j for j in [0, 1, 2, 3]] for i in range(2, 6)]"
      ],
      "execution_count": null,
      "outputs": [
        {
          "output_type": "execute_result",
          "data": {
            "text/plain": [
              "[[2, 3, 4, 5], [3, 4, 5, 6], [4, 5, 6, 7], [5, 6, 7, 8]]"
            ]
          },
          "metadata": {
            "tags": []
          },
          "execution_count": 18
        }
      ]
    },
    {
      "cell_type": "markdown",
      "metadata": {
        "id": "1QCYe67TX5hc",
        "colab_type": "text"
      },
      "source": [
        "###[(1, 1), (2, 1), (3, 1), (1, 2), (2, 2), (3, 2), (1, 3), (2, 3), (3, 3)]"
      ]
    },
    {
      "cell_type": "code",
      "metadata": {
        "id": "2ihgPCR2X8uv",
        "colab_type": "code",
        "colab": {
          "base_uri": "https://localhost:8080/",
          "height": 34
        },
        "outputId": "f8ad9e36-c4a3-45a2-9c1e-be5b1390bc7a"
      },
      "source": [
        "[(i,j) for j in [1, 2, 3] for i in [1, 2, 3]]"
      ],
      "execution_count": null,
      "outputs": [
        {
          "output_type": "execute_result",
          "data": {
            "text/plain": [
              "[(1, 1), (2, 1), (3, 1), (1, 2), (2, 2), (3, 2), (1, 3), (2, 3), (3, 3)]"
            ]
          },
          "metadata": {
            "tags": []
          },
          "execution_count": 19
        }
      ]
    },
    {
      "cell_type": "code",
      "metadata": {
        "id": "zFyKgsWFZBvN",
        "colab_type": "code",
        "colab": {}
      },
      "source": [
        ""
      ],
      "execution_count": null,
      "outputs": []
    }
  ]
}