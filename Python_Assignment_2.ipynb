{
  "nbformat": 4,
  "nbformat_minor": 0,
  "metadata": {
    "colab": {
      "name": "Python_Assignment_2.ipynb",
      "provenance": [],
      "collapsed_sections": [],
      "authorship_tag": "ABX9TyMBCoy8twDcMtyoEMKidzkz",
      "include_colab_link": true
    },
    "kernelspec": {
      "name": "python3",
      "display_name": "Python 3"
    }
  },
  "cells": [
    {
      "cell_type": "markdown",
      "metadata": {
        "id": "view-in-github",
        "colab_type": "text"
      },
      "source": [
        "<a href=\"https://colab.research.google.com/github/vodnalasricharan/Ineuron/blob/master/Python_Assignment_2.ipynb\" target=\"_parent\"><img src=\"https://colab.research.google.com/assets/colab-badge.svg\" alt=\"Open In Colab\"/></a>"
      ]
    },
    {
      "cell_type": "markdown",
      "metadata": {
        "id": "HiNeFUNot069",
        "colab_type": "text"
      },
      "source": [
        "##1. Create the below pattern using nested for loop in Python.\n",
        "<p>*<br>\n",
        "* *<br>\n",
        "* * *<br>\n",
        "* * * *<br>\n",
        "* * * * *<br>\n",
        "* * * *<br>\n",
        "* * *<br>\n",
        "* *<br>\n",
        "*</p>"
      ]
    },
    {
      "cell_type": "code",
      "metadata": {
        "id": "XexobTbdtvBf",
        "colab_type": "code",
        "colab": {
          "base_uri": "https://localhost:8080/",
          "height": 185
        },
        "outputId": "e41bb0f3-c2f1-44fa-bf84-774fd4168771"
      },
      "source": [
        "for i in range(0,10):\n",
        "    if(i <= 5):\n",
        "      print('*'*i)\n",
        "    else:\n",
        "      print('*'*(10-i))\n",
        "      "
      ],
      "execution_count": null,
      "outputs": [
        {
          "output_type": "stream",
          "text": [
            "\n",
            "*\n",
            "**\n",
            "***\n",
            "****\n",
            "*****\n",
            "****\n",
            "***\n",
            "**\n",
            "*\n"
          ],
          "name": "stdout"
        }
      ]
    },
    {
      "cell_type": "markdown",
      "metadata": {
        "id": "UDXkhqwQxrfv",
        "colab_type": "text"
      },
      "source": [
        "##2. Write a Python program to reverse a word after accepting the input from the user.\n",
        "###Sample Output :\n",
        "<p>Input word: ineuron<br>\n",
        "Output: norueni</p>"
      ]
    },
    {
      "cell_type": "code",
      "metadata": {
        "id": "2VFTRwPxwC8G",
        "colab_type": "code",
        "colab": {
          "base_uri": "https://localhost:8080/",
          "height": 50
        },
        "outputId": "e37f88dd-fd62-43ee-d158-abecc625f42e"
      },
      "source": [
        "word=str(input('Enter the word : '))\n",
        "print(word[::-1])"
      ],
      "execution_count": null,
      "outputs": [
        {
          "output_type": "stream",
          "text": [
            "Enter the word : ineouron\n",
            "noruoeni\n"
          ],
          "name": "stdout"
        }
      ]
    },
    {
      "cell_type": "code",
      "metadata": {
        "id": "oKhw_wQ_yd5l",
        "colab_type": "code",
        "colab": {}
      },
      "source": [
        ""
      ],
      "execution_count": null,
      "outputs": []
    }
  ]
}